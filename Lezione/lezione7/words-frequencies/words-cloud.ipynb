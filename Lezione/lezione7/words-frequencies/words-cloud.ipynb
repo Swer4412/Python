{
 "cells": [
  {
   "cell_type": "code",
   "execution_count": 7,
   "metadata": {},
   "outputs": [
    {
     "name": "stdout",
     "output_type": "stream",
     "text": [
      "Conteggio totale delle parole: 2996\n",
      "Conteggio totale dei caratteri: 13796\n",
      "Lunghezza media delle parole: 3.77\n",
      "Lunghezza media delle frasi: 24.16\n",
      "Distribuzione di tutte le parole:\n",
      "{'Chief': 1, 'Justice': 1, 'Roberts': 1, ',': 227, 'Vice-President': 3, 'Harris': 2, 'Speaker': 1, 'Pelosi': 1, 'Leader': 2, 'Schumer': 1, 'McConnell': 1, 'Pence': 1, 'my': 23, 'distinguished': 1, 'guests': 1, 'and': 91, 'fellow': 6, 'Americans': 8, 'this': 35, 'is': 24, 'America': 20, '’': 58, 's': 26, 'day': 4, '.': 117, 'This': 3, 'democracy': 11, 'day—a': 1, 'of': 77, 'history': 6, 'hope': 3, 'renewal': 1, 'resolve': 3, 'Through': 2, 'a': 42, 'crucible': 1, 'for': 31, 'the': 108, 'ages': 2, 'has': 12, 'been': 8, 'tested': 3, 'anew': 1, 'risen': 1, 'to': 63, 'challenge': 3, 'Today': 2, 'we': 69, 'celebrate': 1, 'triumph': 1, 'not': 23, 'candidate': 1, 'but': 14, 'cause': 4, ':': 15, 'The': 4, 'will': 21, 'people': 9, 'heard': 1, 'heeded': 1, 'We': 23, 've': 9, 'learned': 1, 'again': 4, 'that': 25, 'precious': 1, ';': 12, 'fragile': 1, 'At': 1, 'hour': 2, 'friends': 2, 'prevailed': 3, 'From': 1, 'now': 4, 'on': 11, 'hallowed': 1, 'ground—where': 1, 'just': 3, 'few': 1, 'days': 7, 'ago': 3, 'violence': 3, 'sought': 1, 'shake': 1, 'Capitol': 2, 'very': 1, 'foundation—we': 1, 'come': 5, 'together': 4, 'as': 22, 'one': 14, 'nation': 10, 'under': 1, 'God': 4, 'indivisible': 1, 'carry': 2, 'out': 5, 'peaceful': 1, 'transfer': 1, 'power': 5, 'have': 13, 'more': 9, 'than': 6, 'two': 1, 'centuries': 4, 'As': 1, 'look': 4, 'ahead': 2, 'in': 45, 'our': 41, 'uniquely': 1, 'American': 8, 'way—restless': 1, 'bold': 1, 'optimistic—and': 1, 'set': 2, 'sights': 1, 'know': 9, 'can': 20, 'be': 22, 'must': 8, 'I': 43, 'thank': 2, 'predecessors': 1, 'both': 1, 'parties': 1, 'their': 10, 'presence': 1, 'here': 4, 'today': 7, 'them': 3, 'from': 5, 'bottom': 1, 'heart': 3, 'resilience': 1, 'Constitution': 3, 'strength': 3, 'nation—as': 1, 'does': 1, 'President': 1, 'Carter': 1, 'whom': 3, 'spoke': 2, 'with': 12, 'last': 2, 'night': 3, 'who': 11, 'us': 24, 'salute': 1, 'his': 2, 'lifetime': 1, 'service': 2, 'taken': 2, 'sacred': 3, 'oath': 3, 'each': 6, 'those': 12, 'patriots': 1, 'taken—the': 1, 'first': 3, 'sworn': 1, 'by': 10, 'George': 1, 'Washington—but': 1, 'story': 9, 'depends': 1, 'any': 3, 'some': 3, 'all': 21, '“': 9, 'People': 1, '”': 9, 'seek': 1, 'perfect': 1, 'Union.': 1, 'great': 5, 'are': 12, 'good': 4, 'over': 1, 'through': 7, 'storm': 1, 'strife': 1, 'peace': 4, 'war': 4, 'so': 6, 'far': 2, 'still': 3, 'go': 1, 'll': 7, 'press': 1, 'forward': 4, 'speed': 1, 'urgency': 1, 'much': 9, 'do': 13, 'winter': 2, 'peril': 1, 'significant': 1, 'possibilities—much': 1, 'repair': 2, 'restore': 2, 'heal': 1, 'build': 1, 'gain': 1, 'Few': 1, 'challenged': 1, 'or': 5, 'found': 1, 'time': 6, 'challenging': 1, 'difficult': 2, 're': 6, 'A': 3, 'once-in-a-century': 1, 'virus': 4, 'silently': 1, 'stalks': 1, 'country': 4, 'many': 2, 'lives': 2, 'year': 2, 'lost': 4, 'World': 1, 'War': 3, 'II': 1, 'Millions': 1, 'jobs': 3, 'hundreds': 1, 'thousands': 2, 'businesses': 1, 'closed': 1, 'cry': 3, 'racial': 2, 'justice—some': 1, 'four': 2, 'hundred': 2, 'years': 2, 'making—moves': 1, 'dream': 1, 'justice': 3, 'deferred': 1, 'no': 5, 'longer': 1, 'survival': 1, 'comes': 2, 'planet': 1, 'itself': 2, 't': 7, 'desperate': 1, 'clear': 1, 'rise': 2, 'political': 1, 'extremism—white': 1, 'supremacy': 1, 'domestic': 1, 'terrorism': 1, 'confront': 1, 'defeat': 2, 'To': 3, 'overcome': 2, 'these': 5, 'challenges': 2, 'soul': 4, 'secure': 2, 'future': 3, 'requires': 2, 'words': 1, 'It': 4, 'most': 1, 'elusive': 1, 'things': 4, 'unity': 8, 'In': 3, 'another': 9, 'January': 2, 'New': 1, 'Year': 1, 'Day': 1, '1863': 1, 'Abraham': 1, 'Lincoln': 1, 'signed': 1, 'Emancipation': 1, 'Proclamation': 1, 'When': 1, 'he': 1, 'put': 2, 'pen': 1, 'paper': 1, 'president': 3, 'said': 1, 'quote': 1, 'If': 5, 'name': 1, 'ever': 5, 'goes': 2, 'into': 2, 'it': 9, 'act': 2, 'whole': 3, '—my': 1, 'bringing': 1, 'uniting': 2, 'nation—and': 2, 'ask': 3, 'every': 1, 'join': 3, 'me': 11, 'Uniting': 1, 'fight': 2, 'foes': 1, 'face—anger': 1, 'resentment': 1, 'hatred': 1, 'extremism': 1, 'lawlessness': 1, 'disease': 1, 'joblessness': 1, 'hopelessness—with': 1, 'important': 1, 'right': 3, 'wrongs': 1, 'work': 5, 'teach': 1, 'children': 6, 'safe': 1, 'schools': 1, 'deadly': 1, 'reward': 1, 'rebuild': 1, 'middle': 1, 'class': 1, 'make': 2, 'health': 2, 'care': 2, 'deliver': 1, 'once': 4, 'leading': 1, 'force': 1, 'world': 7, 'speaking': 1, 'sound': 2, 'like': 7, 'foolish': 1, 'fantasy': 1, 'forces': 2, 'divide': 1, 'deep': 1, 'they': 5, 'real': 1, 'also': 1, 'new': 2, 'Our': 1, 'constant': 1, 'struggle': 2, 'between': 1, 'ideal': 1, 'created': 1, 'equal': 1, 'harsh': 1, 'ugly': 1, 'reality': 1, 'racism': 2, 'nativism': 1, 'fear': 3, 'demonization': 1, 'long': 1, 'torn': 1, 'apart': 1, 'battle': 1, 'perennial': 1, 'victory': 1, 'never': 3, 'assured': 1, 'Civil': 2, 'Great': 1, 'Depression': 1, '9/11': 1, 'sacrifice': 1, 'setbacks': 1, 'better': 4, 'angels': 1, 'always': 2, 'moments': 1, 'enough': 2, 'us—enough': 1, 'us—have': 1, 'History': 1, 'faith': 3, 'reason': 1, 'show': 3, 'way': 4, 'see': 2, 'other': 5, 'adversaries': 1, 'neighbors': 2, 'treat': 1, 'dignity': 3, 'respect': 3, 'stop': 2, 'shouting': 1, 'lower': 1, 'temperature': 1, 'without': 1, 'there': 3, 'only': 3, 'bitterness': 1, 'fury': 1, 'progress': 2, 'exhausting': 1, 'outrage': 1, 'state': 1, 'chaos': 1, 'historic': 1, 'moment': 5, 'crisis': 2, 'path': 2, 'meet': 3, 'United': 2, 'States': 2, 'guarantee': 1, 'you': 23, 'fail': 1, 'failed': 1, 'when': 6, 'acted': 1, 'So': 4, 'at': 7, 'place': 1, 'let': 3, 'start': 1, 'afresh': 1, 'Let': 4, 'begin': 1, 'listen': 1, 'hear': 2, 'Politics': 1, 'doesn': 2, 'raging': 2, 'fire': 1, 'destroying': 1, 'everything': 2, 'its': 1, 'Every': 1, 'disagreement': 2, 'total': 1, 'reject': 1, 'culture': 1, 'which': 1, 'facts': 1, 'themselves': 1, 'manipulated': 1, 'even': 1, 'manufactured': 1, 'My': 3, 'different': 1, 'believe': 3, 'Just': 2, 'around': 1, 'Here': 4, 'stand': 7, 'shadow': 1, 'dome': 1, 'was': 3, 'mentioned': 1, 'earlier': 1, 'completed': 1, 'amid': 1, 'Union': 1, 'literally': 1, 'hanging': 1, 'balance': 1, 'Yet': 2, 'endured': 1, 'looking': 1, 'mall': 1, 'where': 4, 'Dr.': 1, 'King': 1, 'Dream': 1, '108': 1, 'inaugural': 1, 'protesters': 1, 'tried': 1, 'block': 1, 'brave': 1, 'women': 1, 'marching': 1, 'vote': 1, 'marked': 1, 'swearing': 1, 'woman': 1, 'elected': 1, 'national': 1, 'office': 1, 'Kamala': 1, 'Don': 1, 'tell': 1, 'change': 1, 'across': 1, 'Potomac': 1, 'Arlington': 1, 'Cemetery': 1, 'heroes': 1, 'gave': 3, 'full': 1, 'measure': 2, 'devotion': 1, 'rest': 1, 'eternal': 1, 'after': 1, 'riotous': 1, 'mob': 1, 'thought': 1, 'could': 1, 'use': 1, 'silence': 1, 'drive': 1, 'ground': 1, 'did': 6, 'happen': 2, 'tomorrow': 2, 'ever—not': 1, 'supported': 1, 'campaign': 1, 'm': 2, 'humbled': 1, 'placed': 1, 'support': 2, 'say': 5, 'Hear': 1, 'move': 1, 'take': 1, 'disagree': 2, 'That': 4, 'dissent': 1, 'peaceably': 1, 'within': 1, 'guardrails': 1, 'republic': 1, 'perhaps': 1, 'greatest': 1, 'clearly': 1, 'lead': 2, 'disunion': 1, 'pledge': 1, 'Americans—all': 1, 'Americans—and': 1, 'promise': 4, 'hard': 1, 'Many': 1, 'Saint': 1, 'Augustine': 1, 'saint': 1, 'church': 1, 'wrote': 1, 'multitude…': 1, 'defined': 1, 'common': 3, 'objects': 3, 'love': 5, '—defined': 1, 'What': 2, 'define': 1, '?': 9, 'think': 1, 'opportunity': 1, 'security': 2, 'liberty': 2, 'honor': 3, 'yes': 1, 'truth': 5, 'Recent': 1, 'weeks': 1, 'months': 1, 'taught': 1, 'painful': 1, 'lesson': 1, 'There': 4, 'lies—lies': 1, 'told': 1, 'profit—and': 1, 'duty': 2, 'responsibility': 1, 'citizens': 1, 'especially': 1, 'leaders—leaders': 1, 'pledged': 1, 'protect': 2, 'nation—to': 1, 'defend': 4, 'lies': 1, 'Look': 3, 'understand': 4, 'view': 1, 'trepidation': 1, 'worry': 1, 'about': 4, 'dad': 1, 'lie': 1, 'bed': 1, 'staring': 1, 'ceiling—wondering': 1, 'Can': 2, 'keep': 2, 'pay': 1, 'mortgage': 1, '—thinking': 1, 'families': 1, 'what': 5, 'next': 2, 'get': 3, 'answer': 1, 'turn': 2, 'inward': 1, 'retreat': 1, 'competing': 1, 'factions': 1, 'distrusting': 1, 'don': 2, 'worship': 1, 'news': 1, 'same': 1, 'sources': 1, 'end': 1, 'uncivil': 1, 'pits': 1, 'red': 1, 'against': 1, 'blue': 1, 'rural': 1, 'versus': 2, 'urban': 1, 'conservative': 1, 'liberal': 1, 'if': 3, 'open': 1, 'souls': 1, 'instead': 1, 'hardening': 1, 'hearts': 2, 'little': 1, 'tolerance': 1, 'humility': 1, 'willing': 1, 'person': 1, 'shoes': 2, 'mom': 1, 'would': 2, '—because': 1, 'thing': 1, 'life': 1, 'accounting': 1, 'fate': 1, 'deal': 1, 'need': 3, 'hand': 2, 'called': 2, 'lend': 1, 'how': 2, 'stronger': 2, 'prosperous': 1, 'ready': 1, 'going': 3, 'persevere': 1, 'dark': 1, 'entering': 1, 'may': 3, 'toughest': 1, 'deadliest': 1, 'period': 1, 'aside': 1, 'politics': 1, 'finally': 1, 'face': 3, 'pandemic': 2, 'nation—one': 1, 'Bible': 1, 'says': 1, 'Weeping': 1, 'endure': 1, 'joy': 1, 'cometh': 1, 'morning': 1, 'together—together': 1, 'folks—all': 1, 'colleagues': 1, 'served': 1, 'House': 1, 'Senate': 1, 'up': 1, 'here—we': 1, 'watching': 2, 'message': 1, 'beyond': 1, 'borders': 1, 'alliances': 1, 'engage': 1, 'again—to': 1, 'yesterday': 1, 'challenges—and': 1, 'merely': 1, 'example': 2, 'strong': 1, 'trusted': 1, 'partner': 1, 'd': 1, 'silent': 2, 'prayer': 2, 'remember': 1, 'past': 1, 'thousand': 1, 'Americans—moms': 1, 'dads': 1, 'husbands': 1, 'wives': 1, 'sons': 1, 'daughters': 1, 'co-workers': 1, 'becoming': 1, 'should': 1, 'left': 1, 'behind': 1, 'Amen': 1, 'Folks': 1, 'testing': 1, 'an': 2, 'attack': 1, 'growing': 1, 'inequity': 1, 'sting': 1, 'systemic': 1, 'climate': 1, 'role': 1, 'Any': 1, 'profound': 1, 'ways': 1, 'fact': 1, 'presenting': 1, 'gravest': 1, 'responsibilities': 1, 'had': 1, 'Now': 1, 'Are': 1, 'step': 1, 'up—all': 1, 'boldness': 1, 'certain': 1, 'judged': 1, 'cascading': 1, 'crises': 1, 'era': 1, 'Will': 3, 'occasion': 1, 'question': 1, 'master': 1, 'rare': 1, 'obligations': 1, 'pass': 1, 'along': 1, 'sure': 1, 'well': 1, 'write': 2, 'chapter': 1, 'America—the': 1, 'might': 1, 'something': 1, 'song': 1, 'means': 1, 'lot': 1, 'Anthem': 1, 'verse': 1, 'stands': 1, 'least': 1, 'works': 1, 'prayers': 2, '\\u2060have': 1, 'brought': 1, 'day…': 1, 'shall': 2, 'legacy': 1, '\\u2060What': 1, '…': 1, '\\u2060when': 1, '\\u2060I': 1, 'best': 2, 'you.': 1, 'add': 2, 'own': 1, 'unfolding': 1, 'then': 1, 'They': 3, 'healed': 1, 'broken': 1, 'land.': 1, 'close': 1, 'began': 1, 'Before': 1, 'give': 2, 'word': 1, 'level': 1, 'your': 1, 'thinking': 1, 'possibilities': 1, 'personal': 1, 'interest': 1, 'public': 1, 'Together': 1, 'division': 1, 'light': 1, 'darkness—a': 1, 'decency': 1, 'healing': 1, 'greatness': 1, 'goodness': 1, 'May': 2, 'guides': 1, 'inspires': 1, 'tells': 1, 'yet': 1, 'answered': 1, 'call': 1, 'history—we': 1, 'met': 1, 'die': 1, 'watch': 1, 'thrived—and': 1, 'secured': 1, 'home': 1, 'stood': 1, 'beacon': 1, 'owe': 1, 'forebears': 1, 'generations': 1, 'follow': 1, 'purpose': 1, 'tasks': 1, 'sustained': 1, 'driven': 1, 'conviction': 1, 'devoted': 1, 'bless': 1, 'troops': 1, 'Thank': 1}\n",
      "Distribuzione delle parole che terminano con 'ly':\n",
      "{'uniquely': 1, 'silently': 1, 'deadly': 1, 'ugly': 1, 'only': 3, 'literally': 1, 'peaceably': 1, 'clearly': 1, 'especially': 1, 'finally': 1, 'merely': 1}\n",
      "Le 10 parole più lunghe:\n",
      "['possibilities—much', 'hopelessness—with', 'ceiling—wondering', 'together—together', 'once-in-a-century', 'responsibilities', 'leaders—leaders', 'extremism—white', 'optimistic—and', 'responsibility']\n"
     ]
    }
   ],
   "source": [
    "import nltk\n",
    "from nltk.tokenize import word_tokenize, sent_tokenize\n",
    "from nltk.corpus import stopwords\n",
    "from nltk.probability import FreqDist\n",
    "import re\n",
    "\n",
    "# Scarica i dati necessari per nltk (commenta se hai già scaricato in precedenza)\n",
    "#nltk.download('stopwords')\n",
    "#nltk.download('punkt')\n",
    "\n",
    "# Carica il testo dal file\n",
    "with open('trump.txt', 'r', encoding='utf-8') as file:\n",
    "    trump_speech = file.read()\n",
    "\n",
    "# Tokenizzazione delle parole e delle frasi\n",
    "words = word_tokenize(trump_speech)\n",
    "sentences = sent_tokenize(trump_speech)\n",
    "\n",
    "# Rimozione di stop words e simboli di interpunzione\n",
    "#stop_words = stopwords.words('english')\n",
    "#words = [word.lower() for word in words if word.isalpha() and word.lower() not in stop_words]\n",
    "\n",
    "# Calcola il conteggio totale delle parole\n",
    "total_words = len(words)\n",
    "\n",
    "# Calcola il conteggio totale dei caratteri\n",
    "total_characters = len(trump_speech)\n",
    "\n",
    "# Calcola la lunghezza media delle parole\n",
    "avg_word_length = sum(len(word) for word in words) / total_words\n",
    "\n",
    "# Calcola la lunghezza media delle frasi\n",
    "avg_sentence_length = total_words / len(sentences)\n",
    "\n",
    "# Calcola la distribuzione di tutte le parole\n",
    "word_freq_dist = dict(FreqDist(words))\n",
    "\n",
    "# Filtra le parole che terminano con 'ly'\n",
    "words_ending_with_ly = [word for word in words if word.endswith('ly')]\n",
    "ly_word_freq_dist = dict(FreqDist(words_ending_with_ly))\n",
    "\n",
    "# Trova le 10 parole più lunghe\n",
    "longest_words = sorted(set(words), key=len, reverse=True)[:10]\n",
    "\n",
    "# Stampa i risultati\n",
    "print(f\"Conteggio totale delle parole: {total_words}\")\n",
    "print(f\"Conteggio totale dei caratteri: {total_characters}\")\n",
    "print(f\"Lunghezza media delle parole: {avg_word_length:.2f}\")\n",
    "print(f\"Lunghezza media delle frasi: {avg_sentence_length:.2f}\")\n",
    "print(\"Distribuzione di tutte le parole:\")\n",
    "print(word_freq_dist)\n",
    "print(\"Distribuzione delle parole che terminano con 'ly':\")\n",
    "print(ly_word_freq_dist)\n",
    "print(\"Le 10 parole più lunghe:\")\n",
    "print(longest_words)\n"
   ]
  },
  {
   "cell_type": "code",
   "execution_count": 8,
   "metadata": {},
   "outputs": [],
   "source": [
    "from wordcloud import WordCloud\n",
    "\n",
    "wordcloud = WordCloud(colormap='prism', background_color='white')\n",
    "wordcloud = wordcloud.generate(trump_speech)\n",
    "wordcloud = wordcloud.to_file('trump.png')\n",
    "\n"
   ]
  }
 ],
 "metadata": {
  "kernelspec": {
   "display_name": "Python 3",
   "language": "python",
   "name": "python3"
  },
  "language_info": {
   "codemirror_mode": {
    "name": "ipython",
    "version": 3
   },
   "file_extension": ".py",
   "mimetype": "text/x-python",
   "name": "python",
   "nbconvert_exporter": "python",
   "pygments_lexer": "ipython3",
   "version": "3.11.5"
  },
  "orig_nbformat": 4
 },
 "nbformat": 4,
 "nbformat_minor": 2
}
