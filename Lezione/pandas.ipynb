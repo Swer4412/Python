{
 "cells": [
  {
   "cell_type": "code",
   "execution_count": 31,
   "metadata": {},
   "outputs": [
    {
     "data": {
      "text/plain": [
       "count     9.000000\n",
       "mean     73.333333\n",
       "std      13.228757\n",
       "min      50.000000\n",
       "25%      70.000000\n",
       "50%      70.000000\n",
       "75%      80.000000\n",
       "max      90.000000\n",
       "dtype: float64"
      ]
     },
     "execution_count": 31,
     "metadata": {},
     "output_type": "execute_result"
    }
   ],
   "source": [
    "import pandas as pd\n",
    "import numpy as np\n",
    "\n",
    "grades = pd.Series(np.array([[60,80,90],\n",
    "                  [70,80,50],\n",
    "                  [70,90,70]]).flat)\n",
    "\n",
    "grades.describe()\n",
    "\n"
   ]
  },
  {
   "cell_type": "code",
   "execution_count": 32,
   "metadata": {},
   "outputs": [
    {
     "data": {
      "text/plain": [
       "9"
      ]
     },
     "execution_count": 32,
     "metadata": {},
     "output_type": "execute_result"
    }
   ],
   "source": [
    "grades.count()"
   ]
  },
  {
   "cell_type": "code",
   "execution_count": 34,
   "metadata": {},
   "outputs": [
    {
     "name": "stdout",
     "output_type": "stream",
     "text": [
      "     Nome  Età Sesso   Città\n",
      "0    Anna   25     F    Roma\n",
      "1   Bruno   32     M  Milano\n",
      "2   Carla   28     F  Torino\n",
      "3  Davide   31     M  Napoli\n"
     ]
    }
   ],
   "source": [
    "data = {\n",
    "    \"Nome\": [\"Anna\", \"Bruno\", \"Carla\", \"Davide\"],\n",
    "    \"Età\": [25, 32, 28, 31],\n",
    "    \"Sesso\": [\"F\", \"M\", \"F\", \"M\"],\n",
    "    \"Città\": [\"Roma\", \"Milano\", \"Torino\", \"Napoli\"]\n",
    "}\n",
    "# creiamo un DataFrame a partire dal dizionario\n",
    "df = pd.DataFrame(data)\n",
    "# stampiamo il DataFrame\n",
    "print(df)\n"
   ]
  }
 ],
 "metadata": {
  "kernelspec": {
   "display_name": "Python 3",
   "language": "python",
   "name": "python3"
  },
  "language_info": {
   "codemirror_mode": {
    "name": "ipython",
    "version": 3
   },
   "file_extension": ".py",
   "mimetype": "text/x-python",
   "name": "python",
   "nbconvert_exporter": "python",
   "pygments_lexer": "ipython3",
   "version": "3.11.5"
  }
 },
 "nbformat": 4,
 "nbformat_minor": 2
}
