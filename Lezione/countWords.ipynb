{
 "cells": [
  {
   "cell_type": "code",
   "execution_count": 3,
   "metadata": {},
   "outputs": [
    {
     "name": "stdout",
     "output_type": "stream",
     "text": [
      "{'testo': 2, 'volte': 2, 'oppure': 2, 'ciao': 1, 'questo': 1, 'è': 1, 'un': 1, 'di': 1, 'prova': 1, 'per': 1, 'vedere': 1, 'quante': 1, 'viene': 1, 'scritto': 1, 'una': 1, 'certa': 1, 'parola': 1, 'tipo': 1, 'parole': 1}\n"
     ]
    }
   ],
   "source": [
    "testo = \"ciao questo è un testo di prova per vedere quante volte viene scritto una certa parola tipo testo oppure parole oppure volte\"\n",
    "\n",
    "lista_parole = testo.split()\n",
    "\n",
    "frequenze={}\n",
    "\n",
    "for parola in lista_parole:\n",
    "    if parola not in frequenze:\n",
    "        frequenze[parola] = 1\n",
    "    else :\n",
    "        frequenze[parola] += 1\n",
    "        \n",
    "# Pazzurdo, \n",
    "frequenze_ordinato = dict(sorted(frequenze.items(), key=lambda tupla:tupla[1], reverse=True)) #Key vuol dire che funzione deve\n",
    "\n",
    "print(frequenze_ordinato)"
   ]
  }
 ],
 "metadata": {
  "kernelspec": {
   "display_name": "Python 3",
   "language": "python",
   "name": "python3"
  },
  "language_info": {
   "codemirror_mode": {
    "name": "ipython",
    "version": 3
   },
   "file_extension": ".py",
   "mimetype": "text/x-python",
   "name": "python",
   "nbconvert_exporter": "python",
   "pygments_lexer": "ipython3",
   "version": "3.11.5"
  }
 },
 "nbformat": 4,
 "nbformat_minor": 2
}
